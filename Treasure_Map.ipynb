{
  "nbformat": 4,
  "nbformat_minor": 0,
  "metadata": {
    "colab": {
      "provenance": [],
      "authorship_tag": "ABX9TyOLlfNp3K9vD3ecGNvFqjgV",
      "include_colab_link": true
    },
    "kernelspec": {
      "name": "python3",
      "display_name": "Python 3"
    },
    "language_info": {
      "name": "python"
    }
  },
  "cells": [
    {
      "cell_type": "markdown",
      "metadata": {
        "id": "view-in-github",
        "colab_type": "text"
      },
      "source": [
        "<a href=\"https://colab.research.google.com/github/tahsinmrahman/mini-python-projects/blob/main/Treasure_Map.ipynb\" target=\"_parent\"><img src=\"https://colab.research.google.com/assets/colab-badge.svg\" alt=\"Open In Colab\"/></a>"
      ]
    },
    {
      "cell_type": "markdown",
      "source": [
        "Write a program that will mark a spot on a map with an X.\n",
        "In the starting code, you will find a variable called map.\n",
        "This map contains a nested list. When map is printed this is what it looks like, notice the nesting:\n",
        "[['⬜️', '⬜️', '⬜️'],\n",
        " ['⬜️', '⬜️', '⬜️'],\n",
        " ['⬜️', '⬜️', '⬜️']]\n",
        "\n",
        "Now it looks a bit more like the coordinates of a real map:contains columns A - H and 7 rows (1 indexing).\n",
        "Write a program that allows you to mark a square on the map using a letter-number system, such that an input of A3 should place an X at the position: 1st column, 3rd row.\n",
        "First, the program must take the user input and convert it to a usable format.\n",
        "Next, you need to use that input to update your nested list with an \"X\"."
      ],
      "metadata": {
        "id": "TPRKF2ny3I6P"
      }
    },
    {
      "cell_type": "code",
      "source": [
        "#importing necesarry libraries\n",
        "import numpy as np"
      ],
      "metadata": {
        "id": "UMNU_G_hDv_0"
      },
      "execution_count": 50,
      "outputs": []
    },
    {
      "cell_type": "code",
      "execution_count": 57,
      "metadata": {
        "id": "FX9tYVL03FSy"
      },
      "outputs": [],
      "source": [
        "#setting up the map as desired first\n",
        "line1 = [\"⬜️\",\"️⬜️\",\"️⬜️\",\"⬜️\",\"️⬜️\",\"️⬜️\",\"⬜️\",\"️⬜️\"]\n",
        "line2 = [\"⬜️\",\"️⬜️\",\"️⬜️\",\"⬜️\",\"️⬜️\",\"️⬜️\",\"⬜️\",\"️⬜️\"]\n",
        "line3 = [\"⬜️\",\"️⬜️\",\"️⬜️\",\"⬜️\",\"️⬜️\",\"️⬜️\",\"⬜️\",\"️⬜️\"]\n",
        "line4 = [\"⬜️\",\"️⬜️\",\"️⬜️\",\"⬜️\",\"️⬜️\",\"️⬜️\",\"⬜️\",\"️⬜️\"]\n",
        "line5 = [\"⬜️\",\"️⬜️\",\"️⬜️\",\"⬜️\",\"️⬜️\",\"️⬜️\",\"⬜️\",\"️⬜️\"]\n",
        "line6 = [\"⬜️\",\"️⬜️\",\"️⬜️\",\"⬜️\",\"️⬜️\",\"️⬜️\",\"⬜️\",\"️⬜️\"]\n",
        "line7 = [\"⬜️\",\"️⬜️\",\"️⬜️\",\"⬜️\",\"️⬜️\",\"️⬜️\",\"⬜️\",\"️⬜️\"]\n",
        "map = [line1, line2, line3, line4, line5, line6, line7]"
      ]
    },
    {
      "cell_type": "code",
      "source": [
        "#taking the input from the user for the X mark\n",
        "print(\"Where do you want to put the X?\")\n",
        "position = input()"
      ],
      "metadata": {
        "colab": {
          "base_uri": "https://localhost:8080/"
        },
        "id": "mV6faeVQ6cRV",
        "outputId": "beb3ba88-9615-459a-961d-896ef22a1ca3"
      },
      "execution_count": 58,
      "outputs": [
        {
          "name": "stdout",
          "output_type": "stream",
          "text": [
            "Where do you want to put the X?\n",
            "G3\n"
          ]
        }
      ]
    },
    {
      "cell_type": "code",
      "source": [
        "#utilising the position input to define the co-ordinates\n",
        "marked_row = int(position[1])-1\n",
        "letters = [\"A\",\"B\",\"C\",\"D\",\"E\",\"F\",\"G\",\"H\"]\n",
        "marked_column = letters.index(position[0])"
      ],
      "metadata": {
        "id": "QdkSIOky6kLu"
      },
      "execution_count": 59,
      "outputs": []
    },
    {
      "cell_type": "code",
      "source": [
        "#changing the marked spot in the original map\n",
        "map[marked_row][marked_column] = \"X\"\n",
        "print(f\"{line1}\\n{line2}\\n{line3}\\n{line4}\\n{line5}\\n{line6}\\n{line7}\")"
      ],
      "metadata": {
        "colab": {
          "base_uri": "https://localhost:8080/"
        },
        "id": "kpFUgWU07RJG",
        "outputId": "5734dac8-f585-456b-cae1-81b7c7320482"
      },
      "execution_count": 60,
      "outputs": [
        {
          "output_type": "stream",
          "name": "stdout",
          "text": [
            "['⬜️', '️⬜️', '️⬜️', '⬜️', '️⬜️', '️⬜️', '⬜️', '️⬜️']\n",
            "['⬜️', '️⬜️', '️⬜️', '⬜️', '️⬜️', '️⬜️', '⬜️', '️⬜️']\n",
            "['⬜️', '️⬜️', '️⬜️', '⬜️', '️⬜️', '️⬜️', 'X', '️⬜️']\n",
            "['⬜️', '️⬜️', '️⬜️', '⬜️', '️⬜️', '️⬜️', '⬜️', '️⬜️']\n",
            "['⬜️', '️⬜️', '️⬜️', '⬜️', '️⬜️', '️⬜️', '⬜️', '️⬜️']\n",
            "['⬜️', '️⬜️', '️⬜️', '⬜️', '️⬜️', '️⬜️', '⬜️', '️⬜️']\n",
            "['⬜️', '️⬜️', '️⬜️', '⬜️', '️⬜️', '️⬜️', '⬜️', '️⬜️']\n"
          ]
        }
      ]
    },
    {
      "cell_type": "code",
      "execution_count": 61,
      "metadata": {
        "id": "VIdhl-BdD82G"
      },
      "outputs": [],
      "source": [
        "#setting up the map as desired first - numpy array version\n",
        "line1 = [\"⬜️\",\"️⬜️\",\"️⬜️\",\"⬜️\",\"️⬜️\",\"️⬜️\",\"⬜️\",\"️⬜️\"]\n",
        "line2 = [\"⬜️\",\"️⬜️\",\"️⬜️\",\"⬜️\",\"️⬜️\",\"️⬜️\",\"⬜️\",\"️⬜️\"]\n",
        "line3 = [\"⬜️\",\"️⬜️\",\"️⬜️\",\"⬜️\",\"️⬜️\",\"️⬜️\",\"⬜️\",\"️⬜️\"]\n",
        "line4 = [\"⬜️\",\"️⬜️\",\"️⬜️\",\"⬜️\",\"️⬜️\",\"️⬜️\",\"⬜️\",\"️⬜️\"]\n",
        "line5 = [\"⬜️\",\"️⬜️\",\"️⬜️\",\"⬜️\",\"️⬜️\",\"️⬜️\",\"⬜️\",\"️⬜️\"]\n",
        "line6 = [\"⬜️\",\"️⬜️\",\"️⬜️\",\"⬜️\",\"️⬜️\",\"️⬜️\",\"⬜️\",\"️⬜️\"]\n",
        "line7 = [\"⬜️\",\"️⬜️\",\"️⬜️\",\"⬜️\",\"️⬜️\",\"️⬜️\",\"⬜️\",\"️⬜️\"]\n",
        "map = np.array([line1, line2, line3, line4, line5, line6, line7])"
      ]
    },
    {
      "cell_type": "code",
      "source": [
        "#taking the input from the user for the X mark\n",
        "print(\"Where do you want to put the X?\")\n",
        "position = input()"
      ],
      "metadata": {
        "colab": {
          "base_uri": "https://localhost:8080/"
        },
        "outputId": "bc99643b-50b4-41fc-b3c7-b4e7361ec435",
        "id": "cWuSOTcqFLEu"
      },
      "execution_count": 62,
      "outputs": [
        {
          "name": "stdout",
          "output_type": "stream",
          "text": [
            "Where do you want to put the X?\n",
            "G3\n"
          ]
        }
      ]
    },
    {
      "cell_type": "code",
      "source": [
        "#translating the co-ordinates to mark the spot - X\n",
        "marked_row = map[int(position[1])-1]\n",
        "letters = [\"A\",\"B\",\"C\",\"D\",\"E\",\"F\",\"G\",\"H\"]\n",
        "marked_column = letters.index(position[0])\n",
        "marked_row[marked_column] = \"X\"\n",
        "print(map)"
      ],
      "metadata": {
        "colab": {
          "base_uri": "https://localhost:8080/"
        },
        "id": "WqwN64EhFNBN",
        "outputId": "3a5a6ee3-05f3-4eef-e898-005acf328cd5"
      },
      "execution_count": 63,
      "outputs": [
        {
          "output_type": "stream",
          "name": "stdout",
          "text": [
            "[['⬜️' '️⬜️' '️⬜️' '⬜️' '️⬜️' '️⬜️' '⬜️' '️⬜️']\n",
            " ['⬜️' '️⬜️' '️⬜️' '⬜️' '️⬜️' '️⬜️' '⬜️' '️⬜️']\n",
            " ['⬜️' '️⬜️' '️⬜️' '⬜️' '️⬜️' '️⬜️' 'X' '️⬜️']\n",
            " ['⬜️' '️⬜️' '️⬜️' '⬜️' '️⬜️' '️⬜️' '⬜️' '️⬜️']\n",
            " ['⬜️' '️⬜️' '️⬜️' '⬜️' '️⬜️' '️⬜️' '⬜️' '️⬜️']\n",
            " ['⬜️' '️⬜️' '️⬜️' '⬜️' '️⬜️' '️⬜️' '⬜️' '️⬜️']\n",
            " ['⬜️' '️⬜️' '️⬜️' '⬜️' '️⬜️' '️⬜️' '⬜️' '️⬜️']]\n"
          ]
        }
      ]
    }
  ]
}