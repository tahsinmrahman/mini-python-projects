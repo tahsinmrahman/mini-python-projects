{
  "nbformat": 4,
  "nbformat_minor": 0,
  "metadata": {
    "colab": {
      "provenance": [],
      "authorship_tag": "ABX9TyN6Eu5an0uOH9ZEacOh8az3",
      "include_colab_link": true
    },
    "kernelspec": {
      "name": "python3",
      "display_name": "Python 3"
    },
    "language_info": {
      "name": "python"
    }
  },
  "cells": [
    {
      "cell_type": "markdown",
      "metadata": {
        "id": "view-in-github",
        "colab_type": "text"
      },
      "source": [
        "<a href=\"https://colab.research.google.com/github/tahsinmrahman/mini-python-projects/blob/main/Hacker_Statistics_Random_Walk.ipynb\" target=\"_parent\"><img src=\"https://colab.research.google.com/assets/colab-badge.svg\" alt=\"Open In Colab\"/></a>"
      ]
    },
    {
      "cell_type": "markdown",
      "source": [
        "Main Goal:\n",
        "\n",
        "Calculate the probability of reaching 80 steps or higher in the Eifle Tower, following the below conditions:\n",
        "1. A dice directs your next steps such that:\n",
        "  a. If dice rolls 1 or 2, you take a step down\n",
        "  b. If dice rolls 3 - 5, you take a step up\n",
        "  c. If dice rolls 6, you roll again and take as many steps as the rolled number\n",
        "2. You cannot go below the 0 steps\n",
        "3. There is a 0.1% chance that you might fall down, then your step count becomes 0\n",
        "\n",
        "Instructions:\n",
        "1. Generate a random walk on the basis of above\n",
        "2. For the hacker statistics, generate the random walk 500 times\n",
        "3. Calculate the probability of reaching 80 steps or higher during those 500 random walks"
      ],
      "metadata": {
        "id": "g914gugjPerh"
      }
    },
    {
      "cell_type": "code",
      "source": [
        "#importing relevant libraries\n",
        "import numpy as np\n",
        "import pandas as pd\n",
        "import matplotlib.pyplot as plt"
      ],
      "metadata": {
        "id": "0tcWI6cHUDFT"
      },
      "execution_count": 43,
      "outputs": []
    },
    {
      "cell_type": "code",
      "source": [
        "#generating the random_walk 500 times\n",
        "all_walks = []\n",
        "last_step = []\n",
        "\n",
        "for i in range(10):\n",
        "#creating the random_walk with 10 random steps\n",
        " random_walk = [0]\n",
        "\n",
        " for i in range(3):\n",
        "  dice = np.random.randint(1,7)\n",
        "  steps = random_walk[-1] #the initial step would be the last added step in the random walk\n",
        "\n",
        "  #writing the if-else condition\n",
        "  if dice <= 2:\n",
        "    steps = max(0, steps - 1)\n",
        "  elif dice <= 5:\n",
        "    steps = steps + 1\n",
        "  else:\n",
        "    steps = steps + dice\n",
        "\n",
        "  #adding the chance of falling down\n",
        "  if np.random.rand() <= 0.001:\n",
        "    steps = 0\n",
        "  random_walk.append(steps) #adding all the steps into the random_walk\n",
        "\n",
        " all_walks.append(random_walk)\n",
        " last_step.append(random_walk[-1])\n",
        "\n",
        "print(random_walk)\n",
        "print(all_walks)\n",
        "print(last_step)"
      ],
      "metadata": {
        "colab": {
          "base_uri": "https://localhost:8080/"
        },
        "id": "uOZ5Xj72Ikdp",
        "outputId": "f55cffd3-1b2d-4ef4-8199-129aec528e9b"
      },
      "execution_count": 44,
      "outputs": [
        {
          "output_type": "stream",
          "name": "stdout",
          "text": [
            "[0, 1, 0, 6]\n",
            "[[0, 1, 0, 6], [0, 1, 2, 3], [0, 1, 0, 1], [0, 0, 0, 1], [0, 0, 6, 7], [0, 1, 0, 6], [0, 1, 0, 1], [0, 1, 2, 1], [0, 0, 0, 0], [0, 1, 0, 6]]\n",
            "[6, 3, 1, 1, 7, 6, 1, 1, 0, 6]\n"
          ]
        }
      ]
    },
    {
      "cell_type": "code",
      "source": [
        "#calculating the probability:\n",
        "np_laststep = np.array(last_step)\n",
        "highstep_count = np.count_nonzero(np_laststep >= 8)\n",
        "print(highstep_count)\n",
        "\n",
        "probability = highstep_count / len(all_walks)\n",
        "print(probability)\n"
      ],
      "metadata": {
        "colab": {
          "base_uri": "https://localhost:8080/"
        },
        "id": "tuWlev_bTER1",
        "outputId": "97488cc2-c496-4330-a445-f489c1b49342"
      },
      "execution_count": 42,
      "outputs": [
        {
          "output_type": "stream",
          "name": "stdout",
          "text": [
            "1\n",
            "0.1\n"
          ]
        }
      ]
    }
  ]
}